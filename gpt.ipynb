{
 "cells": [
  {
   "cell_type": "code",
   "execution_count": 2,
   "metadata": {},
   "outputs": [],
   "source": [
    "import jax.numpy as jnp\n",
    "import equinox as eqx\n",
    "from model import GPTLanguageModel, encode, decode\n",
    "from train import load"
   ]
  },
  {
   "cell_type": "code",
   "execution_count": 3,
   "metadata": {},
   "outputs": [],
   "source": [
    "model = load(\"gpt_model.eqx\")"
   ]
  },
  {
   "cell_type": "code",
   "execution_count": 6,
   "metadata": {},
   "outputs": [
    {
     "name": "stdout",
     "output_type": "stream",
     "text": [
      "\n",
      "Togerous before them, after would those thrifts;\n",
      "Yield these have I look not how they there is no.\n",
      "Come, let's upon the desire\n",
      "Be count in affection. My noble looking throw\n",
      "Grows all.\n",
      "\n",
      "Lord:\n",
      "We thank that Paris to him.\n",
      "\n",
      "FLORIZEL:\n",
      "For child, be but long.\n",
      "\n",
      "P\n"
     ]
    }
   ],
   "source": [
    "start_str = \"\\n\"\n",
    "idx = jnp.array(encode(start_str)).reshape(1, -1)\n",
    "print(decode(model.generate(idx, max_new_tokens=256)[0].tolist()))"
   ]
  },
  {
   "cell_type": "code",
   "execution_count": null,
   "metadata": {},
   "outputs": [],
   "source": []
  },
  {
   "cell_type": "code",
   "execution_count": null,
   "metadata": {},
   "outputs": [],
   "source": []
  }
 ],
 "metadata": {
  "kernelspec": {
   "display_name": "base",
   "language": "python",
   "name": "python3"
  },
  "language_info": {
   "codemirror_mode": {
    "name": "ipython",
    "version": 3
   },
   "file_extension": ".py",
   "mimetype": "text/x-python",
   "name": "python",
   "nbconvert_exporter": "python",
   "pygments_lexer": "ipython3",
   "version": "3.10.13"
  }
 },
 "nbformat": 4,
 "nbformat_minor": 2
}
